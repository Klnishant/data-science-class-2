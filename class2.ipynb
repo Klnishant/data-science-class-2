{
 "cells": [
  {
   "cell_type": "code",
   "execution_count": 1,
   "id": "afda1dc5-276b-4d85-9e23-d49d10a6c186",
   "metadata": {},
   "outputs": [],
   "source": [
    "d = {}"
   ]
  },
  {
   "cell_type": "code",
   "execution_count": 2,
   "id": "487d2e72-cf19-4dfe-805a-aaea62829c2e",
   "metadata": {},
   "outputs": [
    {
     "data": {
      "text/plain": [
       "dict"
      ]
     },
     "execution_count": 2,
     "metadata": {},
     "output_type": "execute_result"
    }
   ],
   "source": [
    "type(d)"
   ]
  },
  {
   "cell_type": "code",
   "execution_count": 3,
   "id": "465058e8-c1a1-40d4-8fe3-78265d739d05",
   "metadata": {},
   "outputs": [],
   "source": [
    "d1 = {'key' : \"nish\"}"
   ]
  },
  {
   "cell_type": "code",
   "execution_count": 4,
   "id": "4c856554-662f-4d44-930a-bbded5b9b370",
   "metadata": {},
   "outputs": [
    {
     "data": {
      "text/plain": [
       "{'key': 'nish'}"
      ]
     },
     "execution_count": 4,
     "metadata": {},
     "output_type": "execute_result"
    }
   ],
   "source": [
    "d1"
   ]
  },
  {
   "cell_type": "code",
   "execution_count": 6,
   "id": "6bab110b-57b2-42f0-9e39-dc1778106385",
   "metadata": {},
   "outputs": [],
   "source": [
    "d2 = {'name' : \"nishant\",'email' : \"jjsh@gmai.com\"}"
   ]
  },
  {
   "cell_type": "code",
   "execution_count": 7,
   "id": "a488cd5a-e9b4-48ab-9f5c-11eb682dfdcc",
   "metadata": {},
   "outputs": [
    {
     "data": {
      "text/plain": [
       "{'name': 'nishant', 'email': 'jjsh@gmai.com'}"
      ]
     },
     "execution_count": 7,
     "metadata": {},
     "output_type": "execute_result"
    }
   ],
   "source": [
    "d2"
   ]
  },
  {
   "cell_type": "code",
   "execution_count": 12,
   "id": "76913848-7ed0-4d93-bfe3-a4cd5edb4ee0",
   "metadata": {},
   "outputs": [],
   "source": [
    "d3 ={234 : \"sudh\",123:\"kumar\",True : \"kaushal\"}"
   ]
  },
  {
   "cell_type": "code",
   "execution_count": 13,
   "id": "934f62a7-d653-4620-940f-88aba3389312",
   "metadata": {},
   "outputs": [
    {
     "data": {
      "text/plain": [
       "{234: 'sudh', 123: 'kumar', True: 'kaushal'}"
      ]
     },
     "execution_count": 13,
     "metadata": {},
     "output_type": "execute_result"
    }
   ],
   "source": [
    "d3"
   ]
  },
  {
   "cell_type": "code",
   "execution_count": 14,
   "id": "8d60cb2a-0c7f-4841-ba77-9d8d909f410b",
   "metadata": {},
   "outputs": [
    {
     "data": {
      "text/plain": [
       "'kumar'"
      ]
     },
     "execution_count": 14,
     "metadata": {},
     "output_type": "execute_result"
    }
   ],
   "source": [
    "d3[123]"
   ]
  },
  {
   "cell_type": "code",
   "execution_count": 15,
   "id": "cb12da1c-2152-4bc6-819d-382e8170dcd0",
   "metadata": {},
   "outputs": [
    {
     "ename": "KeyError",
     "evalue": "'123'",
     "output_type": "error",
     "traceback": [
      "\u001b[0;31m---------------------------------------------------------------------------\u001b[0m",
      "\u001b[0;31mKeyError\u001b[0m                                  Traceback (most recent call last)",
      "Cell \u001b[0;32mIn[15], line 1\u001b[0m\n\u001b[0;32m----> 1\u001b[0m \u001b[43md3\u001b[49m\u001b[43m[\u001b[49m\u001b[38;5;124;43m'\u001b[39;49m\u001b[38;5;124;43m123\u001b[39;49m\u001b[38;5;124;43m'\u001b[39;49m\u001b[43m]\u001b[49m\n",
      "\u001b[0;31mKeyError\u001b[0m: '123'"
     ]
    }
   ],
   "source": [
    "d3['123']"
   ]
  },
  {
   "cell_type": "code",
   "execution_count": 16,
   "id": "a1a4300e-0943-419b-bf51-ac3b04da99fc",
   "metadata": {},
   "outputs": [
    {
     "data": {
      "text/plain": [
       "'kaushal'"
      ]
     },
     "execution_count": 16,
     "metadata": {},
     "output_type": "execute_result"
    }
   ],
   "source": [
    "d3[1]"
   ]
  },
  {
   "cell_type": "code",
   "execution_count": 19,
   "id": "dc5fb766-beae-4fa8-a174-7b078927917c",
   "metadata": {},
   "outputs": [],
   "source": [
    "d4 = {'name' : \"nish\",'mail' : \"nuusi@.com\" ,\"name\" : \"nishant\"}"
   ]
  },
  {
   "cell_type": "code",
   "execution_count": 20,
   "id": "813c4a07-254e-4726-84ca-567feba8bf5b",
   "metadata": {},
   "outputs": [
    {
     "data": {
      "text/plain": [
       "'nishant'"
      ]
     },
     "execution_count": 20,
     "metadata": {},
     "output_type": "execute_result"
    }
   ],
   "source": [
    "d4['name']"
   ]
  },
  {
   "cell_type": "code",
   "execution_count": 21,
   "id": "cf53dd55-35a2-4803-aeb5-6186c89d9e49",
   "metadata": {},
   "outputs": [],
   "source": [
    "d5 = {\"comp\" : \"pwskills\", \"course\" : [\"web dev\",\"data scince\",\"java\"]}"
   ]
  },
  {
   "cell_type": "code",
   "execution_count": 22,
   "id": "cbfeb619-1366-4389-b7b1-ceaa1dd7fa39",
   "metadata": {},
   "outputs": [
    {
     "data": {
      "text/plain": [
       "{'comp': 'pwskills', 'course': ['web dev', 'data scince', 'java']}"
      ]
     },
     "execution_count": 22,
     "metadata": {},
     "output_type": "execute_result"
    }
   ],
   "source": [
    "d5"
   ]
  },
  {
   "cell_type": "code",
   "execution_count": 23,
   "id": "37388bd7-a2aa-4fab-8dfd-be889fcbbee6",
   "metadata": {},
   "outputs": [
    {
     "data": {
      "text/plain": [
       "['web dev', 'data scince', 'java']"
      ]
     },
     "execution_count": 23,
     "metadata": {},
     "output_type": "execute_result"
    }
   ],
   "source": [
    "d5[\"course\"]"
   ]
  },
  {
   "cell_type": "code",
   "execution_count": 24,
   "id": "b01f01b0-cdd8-405d-8357-9af447d988cb",
   "metadata": {},
   "outputs": [
    {
     "data": {
      "text/plain": [
       "'java'"
      ]
     },
     "execution_count": 24,
     "metadata": {},
     "output_type": "execute_result"
    }
   ],
   "source": [
    "d5[\"course\"][2]"
   ]
  },
  {
   "cell_type": "code",
   "execution_count": 26,
   "id": "660ca12b-2751-4800-bb5b-7b2a02107ddc",
   "metadata": {},
   "outputs": [],
   "source": [
    "d6 = {\"num\" : [2,3,4,587,76], \"asgn\" : (27,87,89), \"l date\" :{28,3,14} ,\"class\" :{\"we dev\" : 8,\"java\" :7,\"d scince\" :8}}"
   ]
  },
  {
   "cell_type": "code",
   "execution_count": 27,
   "id": "ad9dd878-6bab-4ed5-b546-9eeb8df64a86",
   "metadata": {},
   "outputs": [
    {
     "data": {
      "text/plain": [
       "{'num': [2, 3, 4, 587, 76],\n",
       " 'asgn': (27, 87, 89),\n",
       " 'l date': {3, 14, 28},\n",
       " 'class': {'we dev': 8, 'java': 7, 'd scince': 8}}"
      ]
     },
     "execution_count": 27,
     "metadata": {},
     "output_type": "execute_result"
    }
   ],
   "source": [
    "d6"
   ]
  },
  {
   "cell_type": "code",
   "execution_count": 28,
   "id": "16b8103c-a680-48df-a3df-23e0d6a654e4",
   "metadata": {},
   "outputs": [
    {
     "data": {
      "text/plain": [
       "{'we dev': 8, 'java': 7, 'd scince': 8}"
      ]
     },
     "execution_count": 28,
     "metadata": {},
     "output_type": "execute_result"
    }
   ],
   "source": [
    "d6[\"class\"]"
   ]
  },
  {
   "cell_type": "code",
   "execution_count": 29,
   "id": "7226c93d-6553-41d7-ae93-431be64bd6a6",
   "metadata": {},
   "outputs": [
    {
     "data": {
      "text/plain": [
       "7"
      ]
     },
     "execution_count": 29,
     "metadata": {},
     "output_type": "execute_result"
    }
   ],
   "source": [
    "d6[\"class\"][\"java\"]"
   ]
  },
  {
   "cell_type": "code",
   "execution_count": 30,
   "id": "d521f28e-6916-48cf-a285-6796780810fe",
   "metadata": {},
   "outputs": [
    {
     "data": {
      "text/plain": [
       "{'num': [2, 3, 4, 587, 76],\n",
       " 'asgn': (27, 87, 89),\n",
       " 'l date': {3, 14, 28},\n",
       " 'class': {'we dev': 8, 'java': 7, 'd scince': 8}}"
      ]
     },
     "execution_count": 30,
     "metadata": {},
     "output_type": "execute_result"
    }
   ],
   "source": [
    "d6"
   ]
  },
  {
   "cell_type": "code",
   "execution_count": 31,
   "id": "132bdec8-a70e-443e-9710-eef3c1faca41",
   "metadata": {},
   "outputs": [],
   "source": [
    "d6['mentor'] = [\"sudhansu\",\"krish\",\"anurag\"]"
   ]
  },
  {
   "cell_type": "code",
   "execution_count": 32,
   "id": "dbbb7b9f-4b3c-498f-9103-f005d7cdc553",
   "metadata": {},
   "outputs": [
    {
     "data": {
      "text/plain": [
       "{'num': [2, 3, 4, 587, 76],\n",
       " 'asgn': (27, 87, 89),\n",
       " 'l date': {3, 14, 28},\n",
       " 'class': {'we dev': 8, 'java': 7, 'd scince': 8},\n",
       " 'mentor': ['sudhansu', 'krish', 'anurag']}"
      ]
     },
     "execution_count": 32,
     "metadata": {},
     "output_type": "execute_result"
    }
   ],
   "source": [
    "d6"
   ]
  },
  {
   "cell_type": "code",
   "execution_count": 33,
   "id": "c8727957-3da3-4be9-b25e-adb14f07f5ce",
   "metadata": {},
   "outputs": [],
   "source": [
    "del d6['num']"
   ]
  },
  {
   "cell_type": "code",
   "execution_count": 34,
   "id": "3cff7e8d-dbfa-4c89-a317-1236b5ed47f5",
   "metadata": {},
   "outputs": [
    {
     "data": {
      "text/plain": [
       "{'asgn': (27, 87, 89),\n",
       " 'l date': {3, 14, 28},\n",
       " 'class': {'we dev': 8, 'java': 7, 'd scince': 8},\n",
       " 'mentor': ['sudhansu', 'krish', 'anurag']}"
      ]
     },
     "execution_count": 34,
     "metadata": {},
     "output_type": "execute_result"
    }
   ],
   "source": [
    "d6"
   ]
  },
  {
   "cell_type": "code",
   "execution_count": 35,
   "id": "70d49058-42a1-41fa-afb7-6f4de77a723e",
   "metadata": {},
   "outputs": [
    {
     "data": {
      "text/plain": [
       "dict_keys(['asgn', 'l date', 'class', 'mentor'])"
      ]
     },
     "execution_count": 35,
     "metadata": {},
     "output_type": "execute_result"
    }
   ],
   "source": [
    "d6.keys()"
   ]
  },
  {
   "cell_type": "code",
   "execution_count": 36,
   "id": "6e941550-f2e5-4508-8c5f-750410fa9f4a",
   "metadata": {},
   "outputs": [
    {
     "data": {
      "text/plain": [
       "dict_values([(27, 87, 89), {3, 28, 14}, {'we dev': 8, 'java': 7, 'd scince': 8}, ['sudhansu', 'krish', 'anurag']])"
      ]
     },
     "execution_count": 36,
     "metadata": {},
     "output_type": "execute_result"
    }
   ],
   "source": [
    "d6.values()"
   ]
  },
  {
   "cell_type": "code",
   "execution_count": 38,
   "id": "33d4e057-bcf9-44db-b830-0d62f728be26",
   "metadata": {},
   "outputs": [
    {
     "data": {
      "text/plain": [
       "[('asgn', (27, 87, 89)),\n",
       " ('l date', {3, 14, 28}),\n",
       " ('class', {'we dev': 8, 'java': 7, 'd scince': 8}),\n",
       " ('mentor', ['sudhansu', 'krish', 'anurag'])]"
      ]
     },
     "execution_count": 38,
     "metadata": {},
     "output_type": "execute_result"
    }
   ],
   "source": [
    "list(d6.items())"
   ]
  },
  {
   "cell_type": "code",
   "execution_count": 39,
   "id": "ee354470-070a-435d-b31f-b595ca701885",
   "metadata": {},
   "outputs": [
    {
     "data": {
      "text/plain": [
       "(27, 87, 89)"
      ]
     },
     "execution_count": 39,
     "metadata": {},
     "output_type": "execute_result"
    }
   ],
   "source": [
    "d6.pop('asgn')"
   ]
  },
  {
   "cell_type": "code",
   "execution_count": 40,
   "id": "5439f5c6-6cdd-4736-99e7-67e5cfebb007",
   "metadata": {},
   "outputs": [
    {
     "data": {
      "text/plain": [
       "{'l date': {3, 14, 28},\n",
       " 'class': {'we dev': 8, 'java': 7, 'd scince': 8},\n",
       " 'mentor': ['sudhansu', 'krish', 'anurag']}"
      ]
     },
     "execution_count": 40,
     "metadata": {},
     "output_type": "execute_result"
    }
   ],
   "source": [
    "d6"
   ]
  },
  {
   "cell_type": "code",
   "execution_count": 46,
   "id": "81223945-690c-4580-9024-dc3104010e9c",
   "metadata": {},
   "outputs": [
    {
     "name": "stdin",
     "output_type": "stream",
     "text": [
      "Enter your marks 45\n"
     ]
    },
    {
     "name": "stdout",
     "output_type": "stream",
     "text": [
      "you will be a part of A2 batch\n"
     ]
    }
   ],
   "source": [
    " marks= int(input(\"Enter your marks\"))\n",
    "if marks >= 80 :\n",
    "    print(\"you will be a part of A0 batch\")\n",
    "elif marks >= 60 and marks<80 :\n",
    "    print(\"you will be a part of A1 batch\")\n",
    "elif marks >= 40 and marks<60 :\n",
    "    print(\"you will be a part of A2 batch\")\n",
    "else :\n",
    "    print(\"you will be a part of A3 batch\")"
   ]
  },
  {
   "cell_type": "code",
   "execution_count": 47,
   "id": "64bab186-eae0-450f-8b37-171aa0dcdb0c",
   "metadata": {},
   "outputs": [],
   "source": [
    "l = [1,2,3,4,5,6,7,8]"
   ]
  },
  {
   "cell_type": "code",
   "execution_count": 48,
   "id": "5fd70c4f-f545-45bd-b033-1dbbb5120b86",
   "metadata": {},
   "outputs": [
    {
     "name": "stdout",
     "output_type": "stream",
     "text": [
      "1\n",
      "2\n",
      "3\n",
      "4\n",
      "5\n",
      "6\n",
      "7\n",
      "8\n"
     ]
    }
   ],
   "source": [
    "for i in l :\n",
    "    print(i)"
   ]
  },
  {
   "cell_type": "code",
   "execution_count": 49,
   "id": "8ccb099a-a191-4ad1-8c85-f3ec7328461b",
   "metadata": {},
   "outputs": [],
   "source": [
    "l = [\"sudh\",\"kumar\",\"pwskills\",\"course\"]"
   ]
  },
  {
   "cell_type": "code",
   "execution_count": 53,
   "id": "41df284b-c5fd-4b94-9204-409221ce2bf1",
   "metadata": {},
   "outputs": [],
   "source": [
    "l1=[]\n",
    "for i in l :\n",
    "    l1.append(i.upper())"
   ]
  },
  {
   "cell_type": "code",
   "execution_count": 54,
   "id": "3dcd6301-ea6e-432c-8e7b-d917c438df22",
   "metadata": {},
   "outputs": [
    {
     "data": {
      "text/plain": [
       "['SUDH', 'KUMAR', 'PWSKILLS', 'COURSE']"
      ]
     },
     "execution_count": 54,
     "metadata": {},
     "output_type": "execute_result"
    }
   ],
   "source": [
    "l1"
   ]
  },
  {
   "cell_type": "code",
   "execution_count": 55,
   "id": "d2adc60c-1940-4d5b-9282-7bae85778b42",
   "metadata": {},
   "outputs": [],
   "source": [
    "l = [1,2,3,4,4,\"sudh\",\"kumar\",324,34.456,\"abc\"]"
   ]
  },
  {
   "cell_type": "code",
   "execution_count": 62,
   "id": "d6f8e1ea-2989-4feb-b894-e636585cddd7",
   "metadata": {},
   "outputs": [],
   "source": [
    "l1 = []\n",
    "l2 = []\n",
    "for i in l :\n",
    "    if type(i) == int or type(i) == float :\n",
    "        l1.append(i)\n",
    "    else :\n",
    "        l2.append(i)"
   ]
  },
  {
   "cell_type": "code",
   "execution_count": 63,
   "id": "4bf49287-8f66-48d2-8a9d-5a140c4b63c5",
   "metadata": {},
   "outputs": [
    {
     "data": {
      "text/plain": [
       "['sudh', 'kumar', 'abc']"
      ]
     },
     "execution_count": 63,
     "metadata": {},
     "output_type": "execute_result"
    }
   ],
   "source": [
    "l1\n",
    "l2"
   ]
  },
  {
   "cell_type": "code",
   "execution_count": null,
   "id": "6713483d-0c1d-459a-959b-51008e552f28",
   "metadata": {},
   "outputs": [],
   "source": [
    "l1"
   ]
  }
 ],
 "metadata": {
  "kernelspec": {
   "display_name": "Python 3 (ipykernel)",
   "language": "python",
   "name": "python3"
  },
  "language_info": {
   "codemirror_mode": {
    "name": "ipython",
    "version": 3
   },
   "file_extension": ".py",
   "mimetype": "text/x-python",
   "name": "python",
   "nbconvert_exporter": "python",
   "pygments_lexer": "ipython3",
   "version": "3.10.8"
  }
 },
 "nbformat": 4,
 "nbformat_minor": 5
}
